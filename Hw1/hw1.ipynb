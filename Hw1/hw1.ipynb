{
 "cells": [
  {
   "cell_type": "markdown",
   "metadata": {
    "id": "X_Te27fi-0pP"
   },
   "source": [
    "# **HW1: Regression** \n",
    "In *assignment 1*, you need to finish:\n",
    "\n",
    "1.  Basic Part: Implement the regression model to predict the number of dengue cases\n",
    "\n",
    "\n",
    "> *   Step 1: Split Data\n",
    "> *   Step 2: Preprocess Data\n",
    "> *   Step 3: Implement Regression\n",
    "> *   Step 4: Make Prediction\n",
    "> *   Step 5: Train Model and Generate Result\n",
    "\n",
    "2.  Advanced Part: Implementing a regression model to predict the number of dengue cases in a different way than the basic part"
   ]
  },
  {
   "cell_type": "markdown",
   "metadata": {
    "id": "_wDdnos-4uUv"
   },
   "source": [
    "# 1. Basic Part (60%)\n",
    "In the first part, you need to implement the regression to predict the number of dengue cases\n",
    "\n",
    "Please save the prediction result in a csv file **hw1_basic.csv**\n"
   ]
  },
  {
   "cell_type": "markdown",
   "metadata": {
    "id": "RzCR7vk9BFkf"
   },
   "source": [
    "## Import Packages\n",
    "\n",
    "> Note: You **cannot** import any other package in the basic part"
   ]
  },
  {
   "cell_type": "code",
   "execution_count": 1,
   "metadata": {
    "id": "HL5XjqFf4wSj"
   },
   "outputs": [],
   "source": [
    "import numpy as np\n",
    "import matplotlib.pyplot as plt\n",
    "import pandas as pd\n",
    "import csv\n",
    "import math\n",
    "import random"
   ]
  },
  {
   "cell_type": "markdown",
   "metadata": {
    "id": "jnWjrzi0dMPz"
   },
   "source": [
    "## Global attributes\n",
    "Define the global attributes"
   ]
  },
  {
   "cell_type": "code",
   "execution_count": 2,
   "metadata": {
    "id": "EWLDPOlHBbcK"
   },
   "outputs": [],
   "source": [
    "# Input file named as 'hw1_basic_input.csv'\n",
    "input_dataroot = 'hw1_basic_input.csv'\n",
    "output_dataroot = 'hw1_basic.csv'  # Output file will be named as 'hw1_basic.csv'\n",
    "\n",
    "input_datalist = []  # Initial datalist, saved as numpy array\n",
    "output_datalist = []  # Your prediction, should be 10 * 4 matrix and saved as numpy array\n",
    "# The format of each row should be ['epiweek', 'CityA', 'CityB', 'CityC']\n",
    "\n",
    "output_datalist = np.zeros((10,4)).astype(int)\n"
   ]
  },
  {
   "cell_type": "markdown",
   "metadata": {
    "id": "PsFC-cvqIcYK"
   },
   "source": [
    "You can add your own global attributes here\n"
   ]
  },
  {
   "cell_type": "code",
   "execution_count": 3,
   "metadata": {
    "id": "OUbS2BEgcut6"
   },
   "outputs": [],
   "source": [
    "# Number of training data and validation data\n",
    "train_num = 84\n",
    "valid_num = 10\n",
    "\n",
    "# Data set\n",
    "X_train = np.zeros((train_num, 3), dtype=float)  \n",
    "Y_train = np.zeros((train_num, 3), dtype=int)\n",
    "X_valid = np.zeros((valid_num, 3), dtype=float)\n",
    "Y_valid = np.zeros((valid_num, 3), dtype=int)"
   ]
  },
  {
   "cell_type": "markdown",
   "metadata": {
    "id": "rUoRFoQjBW5S"
   },
   "source": [
    "## Load the Input File\n",
    "First, load the basic input file **hw1_basic_input.csv**\n",
    "\n",
    "Input data would be stored in *input_datalist*"
   ]
  },
  {
   "cell_type": "code",
   "execution_count": 4,
   "metadata": {
    "id": "dekR1KnqBtI6"
   },
   "outputs": [],
   "source": [
    "# Read input csv to datalist\n",
    "with open(input_dataroot, newline='') as csvfile:\n",
    "    input_datalist = np.array(list(csv.reader(csvfile))).reshape((105,7))\n",
    "    \n",
    "# Predict Set\n",
    "X_Predict = np.array(input_datalist[95:105, 1:4]).astype(float)"
   ]
  },
  {
   "cell_type": "markdown",
   "metadata": {
    "id": "6kYPuikLCFx4"
   },
   "source": [
    "## Implement the Regression Model\n",
    "\n",
    "> Note: It is recommended to use the functions we defined, you can also define your own functions\n"
   ]
  },
  {
   "cell_type": "markdown",
   "metadata": {
    "id": "jWwdx06JNEYs"
   },
   "source": [
    "### Step 1: Split Data\n",
    "Split data in *input_datalist* into training dataset and validation dataset \n",
    "\n"
   ]
  },
  {
   "cell_type": "code",
   "execution_count": 5,
   "metadata": {
    "id": "USDciENcB-5F"
   },
   "outputs": [],
   "source": [
    "def SplitData(train_num, valid_num):\n",
    "    # Process data list and permutation\n",
    "    data_array = np.array(input_datalist[1:95, 1:])\n",
    "    # np.random.shuffle(data_array)\n",
    "\n",
    "    x_array = np.array(data_array[:, 0:3])\n",
    "    y_array = np.array(data_array[:, 3:6])\n",
    "\n",
    "    i = 0\n",
    "    for data_list in x_array:\n",
    "        j = 0\n",
    "        for data in data_list:\n",
    "            if(data == ''):\n",
    "                # Solve undefine data\n",
    "                x_array[i][j] = 0.0\n",
    "            else:\n",
    "                x_array[i][j] = float(data)\n",
    "            j += 1\n",
    "        i += 1\n",
    "\n",
    "    # Split data\n",
    "    global X_train, Y_train, X_valid, Y_valid\n",
    "    X_train = np.array(x_array[0:train_num]).astype(float)\n",
    "    Y_train = np.array(y_array[0:train_num]).astype(int)\n",
    "    X_valid = np.array(x_array[train_num:train_num+valid_num]).astype(float)\n",
    "    Y_valid = np.array(y_array[train_num:train_num+valid_num]).astype(int)"
   ]
  },
  {
   "cell_type": "markdown",
   "metadata": {
    "id": "u-3Qln4aNgVy"
   },
   "source": [
    "### Step 2: Preprocess Data\n",
    "Handle the unreasonable data\n",
    "> Hint: Outlier and missing data can be handled by removing the data or adding the values with the help of statistics  "
   ]
  },
  {
   "cell_type": "code",
   "execution_count": 6,
   "metadata": {},
   "outputs": [],
   "source": [
    "def PreprocessData(data_list):\n",
    "    num = len(data_list)\n",
    "    mean = data_list.mean()\n",
    "    std = data_list.std()\n",
    "    z_score = np.array((data_list - mean) / std)\n",
    "    rtn_list = data_list\n",
    "    for i in range(0, num):\n",
    "        if(z_score[i] < -1.5 or z_score[i] > 1.5):\n",
    "            rtn_list[i] = mean\n",
    "    return rtn_list"
   ]
  },
  {
   "cell_type": "markdown",
   "metadata": {
    "id": "yDLpJmQUN3V6"
   },
   "source": [
    "### Step 3: Implement Regression\n",
    "> Hint: You can use Matrix Inversion, or Gradient Descent to finish this part\n",
    "\n",
    "##### Linear Model\n",
    " $$f_{w,b}(x^{(i)}) = wx^{(i)} + b \\tag{1}$$\n",
    "\n",
    "##### Cost Function With Regularization\n",
    "$$J(\\mathbf{w},b) = \\frac{1}{2m} \\sum\\limits_{i = 0}^{m-1} (f_{\\mathbf{w},b}(\\mathbf{x}^{(i)}) - y^{(i)})^2  + \\frac{\\lambda}{2m}  \\sum_{j=0}^{n-1} w_j^2 \\tag{1}$$ \n",
    "\n",
    "##### Gradient Descent\n",
    "$$\\begin{align*} \\text{repeat}&\\text{ until convergence:} \\; \\lbrace \\newline\n",
    "\\;  w &= w -  \\alpha \\frac{\\partial J(w,b)}{\\partial w} \\tag{3}  \\; \\newline \n",
    " b &= b -  \\alpha \\frac{\\partial J(w,b)}{\\partial b}  \\newline \\rbrace\n",
    "\\end{align*}$$\n",
    "\n",
    "##### Gradient\n",
    "$$\n",
    "\\begin{align}\n",
    "\\frac{\\partial J(w,b)}{\\partial w}  &= \\frac{1}{m} \\sum\\limits_{i = 0}^{m-1} (f_{w,b}(x^{(i)}) - y^{(i)})x^{(i)} \\tag{4}  \\; \\newline\n",
    "  \\frac{\\partial J(w,b)}{\\partial b}  &= \\frac{1}{m} \\sum\\limits_{i = 0}^{m-1} (f_{w,b}(x^{(i)}) - y^{(i)}) \\newline\n",
    "\\end{align}\n",
    "$$\n",
    "\n"
   ]
  },
  {
   "cell_type": "code",
   "execution_count": 7,
   "metadata": {},
   "outputs": [],
   "source": [
    "# Cost Function\n",
    "def compute_cost(x, y, w, b, Lambda):\n",
    "    # Number of training examples\n",
    "    m = x.shape[0]\n",
    "    n = len(w)\n",
    "    cost = 0.0\n",
    "        \n",
    "    for i in range(m):\n",
    "        f_wb = np.dot(x[i], w) + b          #(n,)(n,) = scalar (see np.dot)\n",
    "        cost += (f_wb - y[i]) ** 2           #scalar\n",
    "    total_cost = float((1 / (2 * m)) * cost)   #scalar\n",
    "    \n",
    "    # Regularization\n",
    "    reg_cost = 0\n",
    "    for j in range(n):\n",
    "        reg_cost += (w[j]**2)                      #scalar\n",
    "    reg_cost = (Lambda / (2 * m)) * reg_cost\n",
    "    \n",
    "    rtn_cost = total_cost + reg_cost\n",
    "    \n",
    "    return rtn_cost"
   ]
  },
  {
   "cell_type": "code",
   "execution_count": 8,
   "metadata": {},
   "outputs": [],
   "source": [
    "#Gradient\n",
    "def compute_gradient(x, y, w, b,Lambda):\n",
    "    # Number of training examples\n",
    "    m,n = x.shape               #(number of examples, number of features)\n",
    "    dj_dw = np.zeros((n,))\n",
    "    dj_db = 0.\n",
    "    \n",
    "    for i in range(m):  \n",
    "        err = (np.dot(x[i], w) + b) - y[i]\n",
    "        for j in range(n):\n",
    "            dj_dw[j] = dj_dw[j] + err * x[i, j]\n",
    "        dj_db = dj_db + err\n",
    "    dj_dw = dj_dw / m \n",
    "    dj_db = dj_db / m\n",
    "    \n",
    "    for j in range(n):\n",
    "        dj_dw[j] = dj_dw[j] + (Lambda / m) * w[j] \n",
    "        \n",
    "    return dj_dw, dj_db\n",
    "        "
   ]
  },
  {
   "cell_type": "code",
   "execution_count": 9,
   "metadata": {
    "id": "Tx9n1_23N8C0"
   },
   "outputs": [],
   "source": [
    "# Gradient Descent\n",
    "def Regression(x, y, w_in, b_in, alpha, Lambda, num_iters, cost_function, gradient_function):\n",
    "    # An array to store cost J and w's at each iteration primarily for graphing later\n",
    "    J_history = []\n",
    "    b = b_in\n",
    "    w = w_in\n",
    "\n",
    "    for i in range(num_iters):\n",
    "        # Calculate the gradient and update the parameters using gradient_function\n",
    "        dj_dw, dj_db = gradient_function(x, y, w, b, Lambda)\n",
    "\n",
    "        # Update Parameters using w, b, alpha and gradient\n",
    "        b = b - alpha * dj_db\n",
    "        w = w - alpha * dj_dw\n",
    "\n",
    "        # Save cost J at each iteration\n",
    "        if i < 100000:      # prevent resource exhaustion\n",
    "            J_history.append(cost_function(x, y, w, b, Lambda))\n",
    "        # Print cost every at intervals 10 times or as many iterations if < 10\n",
    "        if i % math.ceil(num_iters / 10) == 0:\n",
    "            print(f\"Iteration {i:4d}: Cost {J_history[-1]:8.2f}\")\n",
    "            # print(\"iterations: \", i, \"Cost: \", J_history[-1])\n",
    "            \n",
    "    return w, float(b), J_history  # return w b and J history for graphing\n"
   ]
  },
  {
   "cell_type": "markdown",
   "metadata": {
    "id": "2NxRNFwyN8xd"
   },
   "source": [
    "### Step 4: Make Prediction\n",
    "Make prediction of testing dataset and store the value in *output_datalist*"
   ]
  },
  {
   "cell_type": "code",
   "execution_count": 10,
   "metadata": {},
   "outputs": [],
   "source": [
    "def MakePrediction(x, w, b):\n",
    "    m = x.shape[0]\n",
    "    y_hat = np.zeros(m)\n",
    "    for i in range(m):\n",
    "    #     y_hat[i] = w[0]*x[i]**3 + w[1]*x[i]**2 + w[2]*x[i] + b\n",
    "        y_hat[i] = int(np.dot(x[i], w) + b)\n",
    "\n",
    "    # y_hat = np.array(np.dot(x, w) + b).astype(int)\n",
    "\n",
    "    return y_hat"
   ]
  },
  {
   "cell_type": "code",
   "execution_count": 11,
   "metadata": {},
   "outputs": [],
   "source": [
    "def MakeSinglePrediction(x_temp, x1, x2, x3, x4, x5, w, b):\n",
    "    y_hat = int(x_temp*w[0] + x1*w[1] + x2*w[2] + x3*w[3] + x4*w[4] + x5*w[5] + b)\n",
    "    \n",
    "    return y_hat    "
   ]
  },
  {
   "cell_type": "markdown",
   "metadata": {
    "id": "cCd0Z6izOCwq"
   },
   "source": [
    "### Step 5: Train Model and Generate Result\n",
    "\n",
    "> Notice: **Remember to output the coefficients of the model here**, otherwise 5 points would be deducted\n",
    "* If your regression model is *2x^2 + 2x^1 + 1*, your output would be: \n",
    "```\n",
    "2 2 1\n",
    "```\n",
    "\n",
    "\n",
    "\n"
   ]
  },
  {
   "cell_type": "markdown",
   "metadata": {},
   "source": [
    "### **ARMA Model**"
   ]
  },
  {
   "cell_type": "code",
   "execution_count": 12,
   "metadata": {},
   "outputs": [],
   "source": [
    "def moving_average(beta, data_list):\n",
    "    num = len(data_list)\n",
    "    v_init = 0\n",
    "    v = np.zeros(num)\n",
    "    v[0] = beta * v_init + (1 - beta) * data_list[0]\n",
    "    temp = v[0] / (1 - beta)\n",
    "    v[0] = temp\n",
    "    for i in range(1, num):\n",
    "        v[i] = beta * v[i-1] + (1 - beta) * data_list[i]\n",
    "    return v"
   ]
  },
  {
   "cell_type": "code",
   "execution_count": 13,
   "metadata": {},
   "outputs": [],
   "source": [
    "def arma_model(x_list, y_list):\n",
    "    m = y_list.shape[0]\n",
    "    one_before = np.zeros(m).reshape(-1,1).astype(int)\n",
    "    two_before = np.zeros(m).reshape(-1,1).astype(int)\n",
    "    three_before = np.zeros(m).reshape(-1,1).astype(int)\n",
    "    four_before = np.zeros(m).reshape(-1,1).astype(int)\n",
    "    five_before = np.zeros(m).reshape(-1,1).astype(int)\n",
    "    \n",
    "    # One day before\n",
    "    for i in range(1,m):\n",
    "        one_before[i] = y_list[i-1]\n",
    "        \n",
    "    # Two day before\n",
    "    for i in range(2,m):\n",
    "        two_before[i] = y_list[i-2]\n",
    "        \n",
    "    # Three day before    \n",
    "    for i in range(3,m):\n",
    "        three_before[i] = y_list[i-3]\n",
    "        \n",
    "    # Four day before\n",
    "    for i in range(4,m):\n",
    "        four_before[i] = y_list[i-4]\n",
    "        \n",
    "    # Five day before\n",
    "    for i in range(5,m):\n",
    "        five_before[i] = y_list[i-5]\n",
    "        \n",
    "    rtn_array = np.concatenate([x_list, one_before, two_before, three_before, four_before, five_before], axis=1)\n",
    "\n",
    "    return rtn_array        \n"
   ]
  },
  {
   "cell_type": "markdown",
   "metadata": {},
   "source": [
    "### **MAPE**"
   ]
  },
  {
   "cell_type": "code",
   "execution_count": 14,
   "metadata": {},
   "outputs": [],
   "source": [
    "# Evaluate MAPE\n",
    "def evaluate_MAPE(n, y_hat, y):\n",
    "    error_sum = 0\n",
    "    for i in range(n):\n",
    "        abs_error_i = abs(y[i] - y_hat[i])\n",
    "        error_i = abs_error_i / y[i]\n",
    "        error_sum += error_i\n",
    "    error_sum = float(error_sum / n * 100)\n",
    "    \n",
    "    return error_sum"
   ]
  },
  {
   "cell_type": "markdown",
   "metadata": {},
   "source": [
    "### **Preprocess Data Set**"
   ]
  },
  {
   "cell_type": "code",
   "execution_count": 15,
   "metadata": {},
   "outputs": [],
   "source": [
    "# Split data\n",
    "\n",
    "SplitData(train_num, valid_num)\n",
    "\n",
    "# PreProcess Data\n",
    "# PreprocessData(train_num, valid_num)\n",
    "cityA_temp_Train = np.array(PreprocessData(X_train[:, 0])).reshape(-1,1)\n",
    "cityB_temp_Train = np.array(PreprocessData(X_train[:, 1])).reshape(-1,1)\n",
    "cityC_temp_Train = np.array(PreprocessData(X_train[:, 2])).reshape(-1,1)\n",
    "\n",
    "cityA_X_Valid = np.array(X_valid[:, 0]).reshape(-1,1)\n",
    "cityB_X_Valid = np.array(X_valid[:, 1]).reshape(-1,1)\n",
    "cityC_X_Valid = np.array(X_valid[:, 2]).reshape(-1,1)\n",
    "\n",
    "cityA_Y_Train = np.array(Y_train[:, 0]).reshape(-1,1)\n",
    "cityB_Y_Train = np.array(Y_train[:, 1]).reshape(-1,1)\n",
    "cityC_Y_Train = np.array(Y_train[:, 2]).reshape(-1,1)\n",
    "\n",
    "cityA_Y_Valid = np.array(Y_valid[:, 0]).reshape(-1,1)\n",
    "cityB_Y_Valid = np.array(Y_valid[:, 1]).reshape(-1,1)\n",
    "cityC_Y_Valid = np.array(Y_valid[:, 2]).reshape(-1,1)\n",
    "\n",
    "cityA_X_Train = arma_model(cityA_temp_Train, cityA_Y_Train)\n",
    "cityB_X_Train = arma_model(cityB_temp_Train, cityB_Y_Train)\n",
    "cityC_X_Train = arma_model(cityC_temp_Train, cityC_Y_Train)\n",
    "\n",
    "cityA_X_All = arma_model(np.append(cityA_temp_Train, cityA_X_Valid).reshape(-1,1), np.append(cityA_Y_Train, cityA_Y_Valid).reshape(-1,1))\n",
    "cityB_X_All = arma_model(np.append(cityB_temp_Train, cityB_X_Valid).reshape(-1,1), np.append(cityB_Y_Train, cityB_Y_Valid).reshape(-1,1))\n",
    "cityC_X_All = arma_model(np.append(cityC_temp_Train, cityC_X_Valid).reshape(-1,1), np.append(cityC_Y_Train, cityC_Y_Valid).reshape(-1,1))\n",
    "\n",
    "cityA_Y_All = np.append(cityA_Y_Train, cityA_Y_Valid).reshape(-1,1)\n",
    "cityB_Y_All = np.append(cityB_Y_Train, cityB_Y_Valid).reshape(-1,1)\n",
    "cityC_Y_All = np.append(cityC_Y_Train, cityC_Y_Valid).reshape(-1,1)\n",
    "\n",
    "\n",
    "# arma_A_Train = np.array(compute_arma(beta_arma, cityA_Y_Train)).reshape(-1,1)\n",
    "# arma_B_Train = np.array(compute_arma(beta_arma, cityB_Y_Train)).reshape(-1,1)\n",
    "# arma_C_Train = np.array(compute_arma(beta_arma, cityC_Y_Train)).reshape(-1,1)\n",
    "\n",
    "\n",
    "# cityA_X_Train = np.concatenate([cityA_X_Train, arma_A_Train], axis=1)\n",
    "# cityB_X_Train = np.concatenate([cityB_X_Train, arma_B_Train], axis=1)\n",
    "# cityC_X_Train = np.concatenate([cityC_X_Train, arma_C_Train], axis=1)\n",
    "\n",
    "\n",
    "# arma_A_Valid = np.array(compute_arma(beta_arma, cityA_Y_Valid))\n",
    "# arma_B_Valid = np.array(compute_arma(beta_arma, cityB_Y_Valid))\n",
    "# arma_C_Valid = np.array(compute_arma(beta_arma, cityC_Y_Valid))\n",
    "\n",
    "# print(arma_B_Train)\n",
    "# plt.plot(arma_C_Train,'ro', cityC_Y_Train, 'bo')\n",
    "\n",
    "# Visualizing data distribution\n",
    "# plt.scatter(np.array(X_train[:,0]), np.array(Y_train[:,0]))\n",
    "# plt.plot(Y_train[:,2])\n"
   ]
  },
  {
   "cell_type": "markdown",
   "metadata": {},
   "source": [
    "### **Initial Parameters**"
   ]
  },
  {
   "cell_type": "code",
   "execution_count": 16,
   "metadata": {},
   "outputs": [],
   "source": [
    "# w_init = np.zeros(3)\n",
    "# w_init = np.zeros(6)\n",
    "# w_init = 0\n",
    "b_init = 0\n",
    "v_init = 0\n",
    "beta_arma = 0.9\n",
    "\n",
    "# learning_rate = 3.0e-3\n",
    "learning_rate_A = 8.5e-5\n",
    "learning_rate_B = 2.0e-4\n",
    "learning_rate_C = 3.0e-4\n",
    "\n",
    "# Regularization lambda\n",
    "lambda_A = 3.0e5\n",
    "lambda_B = 3.5e4\n",
    "lambda_C = 9.0e4\n",
    "\n",
    "iterations = 5000"
   ]
  },
  {
   "cell_type": "markdown",
   "metadata": {},
   "source": [
    "### **Model Training**"
   ]
  },
  {
   "cell_type": "code",
   "execution_count": 17,
   "metadata": {
    "id": "iCL92EPKOFIn"
   },
   "outputs": [
    {
     "name": "stdout",
     "output_type": "stream",
     "text": [
      "Training CityA\n",
      "Iteration    0: Cost  2009.18\n",
      "Iteration  500: Cost   598.85\n",
      "Iteration 1000: Cost   594.00\n",
      "Iteration 1500: Cost   589.27\n",
      "Iteration 2000: Cost   584.67\n",
      "Iteration 2500: Cost   580.20\n",
      "Iteration 3000: Cost   575.84\n",
      "Iteration 3500: Cost   571.60\n",
      "Iteration 4000: Cost   567.48\n",
      "Iteration 4500: Cost   563.46\n"
     ]
    }
   ],
   "source": [
    "# w_init = np.zeros(cityA_X_Train.shape[1])  # n features\n",
    "\n",
    "# Traning City A\n",
    "print(\"Training CityA\")\n",
    "# w_final_A, b_final_A, J_hist_A = Regression(\n",
    "#     cityA_X_Train, cityA_Y_Train, w_init, b_init, learning_rate_A, Lambda, iterations, compute_cost, compute_gradient)\n",
    "\n",
    "w_init = np.zeros(cityA_X_All.shape[1])\n",
    "\n",
    "w_final_A, b_final_A, J_hist_A = Regression(\n",
    "    cityA_X_All, cityA_Y_All, w_init, b_init, learning_rate_A, lambda_A, iterations, compute_cost, compute_gradient\n",
    ")"
   ]
  },
  {
   "cell_type": "code",
   "execution_count": 18,
   "metadata": {},
   "outputs": [
    {
     "name": "stdout",
     "output_type": "stream",
     "text": [
      "Training CityB\n",
      "Iteration    0: Cost   195.67\n",
      "Iteration  500: Cost   123.96\n",
      "Iteration 1000: Cost   123.03\n",
      "Iteration 1500: Cost   122.13\n",
      "Iteration 2000: Cost   121.26\n",
      "Iteration 2500: Cost   120.41\n",
      "Iteration 3000: Cost   119.59\n",
      "Iteration 3500: Cost   118.79\n",
      "Iteration 4000: Cost   118.02\n",
      "Iteration 4500: Cost   117.27\n"
     ]
    }
   ],
   "source": [
    "# Traning City B\n",
    "print(\"Training CityB\")\n",
    "# w_final_B, b_final_B, J_hist_B = Regression(\n",
    "#     cityB_X_Train, cityB_Y_Train, w_init, b_init, learning_rate_B, Lambda, iterations, compute_cost, compute_gradient)\n",
    "\n",
    "w_final_B, b_final_B, J_hist_B = Regression(\n",
    "    cityB_X_All, cityB_Y_All, w_init, b_init, learning_rate_B, lambda_B, iterations, compute_cost, compute_gradient\n",
    ")"
   ]
  },
  {
   "cell_type": "code",
   "execution_count": 19,
   "metadata": {},
   "outputs": [
    {
     "name": "stdout",
     "output_type": "stream",
     "text": [
      "Training CityC\n",
      "Iteration    0: Cost   476.79\n",
      "Iteration  500: Cost   127.08\n",
      "Iteration 1000: Cost   125.29\n",
      "Iteration 1500: Cost   123.68\n",
      "Iteration 2000: Cost   122.25\n",
      "Iteration 2500: Cost   120.97\n",
      "Iteration 3000: Cost   119.83\n",
      "Iteration 3500: Cost   118.81\n",
      "Iteration 4000: Cost   117.90\n",
      "Iteration 4500: Cost   117.08\n"
     ]
    }
   ],
   "source": [
    "print(\"Training CityC\")\n",
    "# w_final_C, b_final_C, J_hist_C = Regression(\n",
    "#     cityC_X_Train, cityC_Y_Train, w_init, b_init, learning_rate_C, Lambda, iterations, compute_cost, compute_gradient)\n",
    "\n",
    "\n",
    "w_final_C, b_final_C, J_hist_C = Regression(\n",
    "    cityC_X_All, cityC_Y_All, w_init, b_init, learning_rate_C, lambda_C, iterations, compute_cost, compute_gradient\n",
    ")"
   ]
  },
  {
   "cell_type": "markdown",
   "metadata": {},
   "source": [
    "### **Best Cost**\n",
    "- City A : 563.46\n",
    "- City B : 117.27\n",
    "- City C : 117.08"
   ]
  },
  {
   "cell_type": "markdown",
   "metadata": {},
   "source": [
    "### **Training Result**"
   ]
  },
  {
   "cell_type": "code",
   "execution_count": 20,
   "metadata": {},
   "outputs": [
    {
     "name": "stdout",
     "output_type": "stream",
     "text": [
      "BiasA: 21.29184541051772 %\n",
      "BiasB: 18.628407798112747 %\n",
      "BiasC: 41.38277107273743 %\n"
     ]
    }
   ],
   "source": [
    "# Model Training Result\n",
    "\n",
    "y_train_hat = MakePrediction(cityA_X_Train, w_final_A, b_final_A)\n",
    "print(\"BiasA:\", evaluate_MAPE(train_num, y_train_hat, cityA_Y_Train),\"%\")\n",
    "# plt.plot(cityA_Y_Train, 'bo', y_train_hat, 'ro')\n",
    "\n",
    "y_train_hat = MakePrediction(cityB_X_Train, w_final_B, b_final_B)\n",
    "print(\"BiasB:\", evaluate_MAPE(train_num, y_train_hat, cityB_Y_Train),\"%\")\n",
    "# plt.plot(cityB_Y_Train, 'bo', y_train_hat, 'ro')\n",
    "\n",
    "y_train_hat = MakePrediction(cityC_X_Train, w_final_C, b_final_C)\n",
    "print(\"BiasC:\", evaluate_MAPE(train_num, y_train_hat, cityC_Y_Train),\"%\")\n",
    "# plt.plot(cityC_Y_Train, 'bo', y_train_hat, 'ro')\n",
    "\n",
    "# # plot cost versus iteration\n",
    "# fig, (ax1, ax2) = plt.subplots(1, 2, constrained_layout=True, figsize=(12,4))\n",
    "# ax1.plot(J_hist[:100])\n",
    "# ax2.plot(1000 + np.arange(len(J_hist[1000:])), J_hist[1000:])\n",
    "# ax1.set_title(\"Cost vs. iteration(start)\");  ax2.set_title(\"Cost vs. iteration (end)\")\n",
    "# ax1.set_ylabel('Cost')            ;  ax2.set_ylabel('Cost')\n",
    "# ax1.set_xlabel('iteration step')  ;  ax2.set_xlabel('iteration step')"
   ]
  },
  {
   "cell_type": "markdown",
   "metadata": {},
   "source": [
    "### **Best Bias**\n",
    "- City A : 21%\n",
    "- City B : 18%\n",
    "- City C : 41%"
   ]
  },
  {
   "cell_type": "markdown",
   "metadata": {},
   "source": [
    "### **Validation Result**"
   ]
  },
  {
   "cell_type": "code",
   "execution_count": 21,
   "metadata": {},
   "outputs": [
    {
     "name": "stdout",
     "output_type": "stream",
     "text": [
      "[32. 31. 31. 30. 28. 27. 26. 26. 25. 25.]\n",
      "VarrianceA: 7.377467471170621 %\n"
     ]
    }
   ],
   "source": [
    "# City A\n",
    "\n",
    "y_valid_hat = np.zeros(cityA_X_Valid.shape[0])\n",
    "y_valid_hat[0] = MakeSinglePrediction(\n",
    "    cityA_X_Valid[0],\n",
    "    cityA_Y_Train[83],\n",
    "    cityA_Y_Train[82],\n",
    "    cityA_Y_Train[81],\n",
    "    cityA_Y_Train[80],\n",
    "    cityA_Y_Train[79],\n",
    "    w_final_A,\n",
    "    b_final_A)\n",
    "\n",
    "y_valid_hat[1] = MakeSinglePrediction(\n",
    "    cityA_X_Valid[1],\n",
    "    y_valid_hat[0],\n",
    "    cityA_Y_Train[83],\n",
    "    cityA_Y_Train[82],\n",
    "    cityA_Y_Train[81],\n",
    "    cityA_Y_Train[80],\n",
    "    w_final_A,\n",
    "    b_final_A)\n",
    "\n",
    "y_valid_hat[2] = MakeSinglePrediction(\n",
    "    cityA_X_Valid[2],\n",
    "    y_valid_hat[1],\n",
    "    y_valid_hat[0],\n",
    "    cityA_Y_Train[83],\n",
    "    cityA_Y_Train[82],\n",
    "    cityA_Y_Train[81],\n",
    "    w_final_A,\n",
    "    b_final_A)\n",
    "\n",
    "y_valid_hat[3] = MakeSinglePrediction(\n",
    "    cityA_X_Valid[3],\n",
    "    y_valid_hat[2],\n",
    "    y_valid_hat[1],\n",
    "    y_valid_hat[0],\n",
    "    cityA_Y_Train[83],\n",
    "    cityA_Y_Train[82],\n",
    "    w_final_A,\n",
    "    b_final_A)\n",
    "\n",
    "y_valid_hat[4] = MakeSinglePrediction(\n",
    "    cityA_X_Valid[4],\n",
    "    y_valid_hat[3],\n",
    "    y_valid_hat[2],\n",
    "    y_valid_hat[1],\n",
    "    y_valid_hat[0],\n",
    "    cityA_Y_Train[83],\n",
    "    w_final_A,\n",
    "    b_final_A)\n",
    "\n",
    "for i in range(5, valid_num):\n",
    "    y_valid_hat[i] = MakeSinglePrediction(\n",
    "        cityA_X_Valid[i],\n",
    "        y_valid_hat[i-1],\n",
    "        y_valid_hat[i-2],\n",
    "        y_valid_hat[i-3],\n",
    "        y_valid_hat[i-4],\n",
    "        y_valid_hat[i-5],\n",
    "        w_final_A,\n",
    "        b_final_A\n",
    "    )\n",
    "\n",
    "print(y_valid_hat)\n",
    "\n",
    "# y_valid_hat = MakePrediction(cityA_X_Valid, w_final_A, b_final_A)\n",
    "print(\"VarrianceA:\", evaluate_MAPE(valid_num, y_valid_hat, cityA_Y_Valid), \"%\")\n",
    "# plt.plot(cityA_Y_Valid, 'bo', y_valid_hat, 'ro')"
   ]
  },
  {
   "cell_type": "code",
   "execution_count": 22,
   "metadata": {},
   "outputs": [
    {
     "name": "stdout",
     "output_type": "stream",
     "text": [
      "[22. 21. 22. 22. 22. 22. 22. 22. 22. 22.]\n",
      "VarrianceB: 18.32737520128824 %\n"
     ]
    }
   ],
   "source": [
    "# City B\n",
    "\n",
    "y_valid_hat = np.zeros(cityB_X_Valid.shape[0])\n",
    "y_valid_hat[0] = MakeSinglePrediction(\n",
    "    cityB_X_Valid[0],\n",
    "    cityB_Y_Train[83],\n",
    "    cityB_Y_Train[82],\n",
    "    cityB_Y_Train[81],\n",
    "    cityB_Y_Train[80],\n",
    "    cityB_Y_Train[79],\n",
    "    w_final_B,\n",
    "    b_final_B)\n",
    "\n",
    "y_valid_hat[1] = MakeSinglePrediction(\n",
    "    cityB_X_Valid[1],\n",
    "    y_valid_hat[0],\n",
    "    cityB_Y_Train[83],\n",
    "    cityB_Y_Train[82],\n",
    "    cityB_Y_Train[81],\n",
    "    cityB_Y_Train[80],\n",
    "    w_final_B,\n",
    "    b_final_B)\n",
    "\n",
    "y_valid_hat[2] = MakeSinglePrediction(\n",
    "    cityB_X_Valid[2],\n",
    "    y_valid_hat[1],\n",
    "    y_valid_hat[0],\n",
    "    cityB_Y_Train[83],\n",
    "    cityB_Y_Train[82],\n",
    "    cityB_Y_Train[81],\n",
    "    w_final_B,\n",
    "    b_final_B)\n",
    "\n",
    "y_valid_hat[3] = MakeSinglePrediction(\n",
    "    cityB_X_Valid[3],\n",
    "    y_valid_hat[2],\n",
    "    y_valid_hat[1],\n",
    "    y_valid_hat[0],\n",
    "    cityB_Y_Train[83],\n",
    "    cityB_Y_Train[82],\n",
    "    w_final_B,\n",
    "    b_final_B)\n",
    "\n",
    "y_valid_hat[4] = MakeSinglePrediction(\n",
    "    cityB_X_Valid[4],\n",
    "    y_valid_hat[3],\n",
    "    y_valid_hat[2],\n",
    "    y_valid_hat[1],\n",
    "    y_valid_hat[0],\n",
    "    cityB_Y_Train[83],\n",
    "    w_final_B,\n",
    "    b_final_B)\n",
    "\n",
    "for i in range(5, valid_num):\n",
    "    y_valid_hat[i] = MakeSinglePrediction(\n",
    "        cityB_X_Valid[i],\n",
    "        y_valid_hat[i-1],\n",
    "        y_valid_hat[i-2],\n",
    "        y_valid_hat[i-3],\n",
    "        y_valid_hat[i-4],\n",
    "        y_valid_hat[i-5],\n",
    "        w_final_B,\n",
    "        b_final_B\n",
    "    )\n",
    "\n",
    "print(y_valid_hat)\n",
    "\n",
    "# y_valid_hat = MakePrediction(cityB_X_Valid, w_final_B, b_final_B)\n",
    "print(\"VarrianceB:\", evaluate_MAPE(valid_num, y_valid_hat, cityB_Y_Valid), \"%\")\n",
    "# plt.plot(cityB_Y_Valid, 'bo', y_valid_hat, 'ro')"
   ]
  },
  {
   "cell_type": "code",
   "execution_count": 23,
   "metadata": {},
   "outputs": [
    {
     "name": "stdout",
     "output_type": "stream",
     "text": [
      "[46. 43. 42. 40. 38. 35. 33. 32. 30. 29.]\n",
      "VarrianceC: 9.84737861142267 %\n"
     ]
    }
   ],
   "source": [
    "#City C\n",
    "\n",
    "y_valid_hat = np.zeros(cityC_X_Valid.shape[0])\n",
    "y_valid_hat[0] = MakeSinglePrediction(\n",
    "    cityC_X_Valid[0],\n",
    "    cityC_Y_Train[83],\n",
    "    cityC_Y_Train[82],\n",
    "    cityC_Y_Train[81],\n",
    "    cityC_Y_Train[80],\n",
    "    cityC_Y_Train[79],\n",
    "    w_final_C,\n",
    "    b_final_C)\n",
    "\n",
    "y_valid_hat[1] = MakeSinglePrediction(\n",
    "    cityC_X_Valid[1],\n",
    "    y_valid_hat[0],\n",
    "    cityC_Y_Train[83],\n",
    "    cityC_Y_Train[82],\n",
    "    cityC_Y_Train[81],\n",
    "    cityC_Y_Train[80],\n",
    "    w_final_C,\n",
    "    b_final_C)\n",
    "\n",
    "y_valid_hat[2] = MakeSinglePrediction(\n",
    "    cityC_X_Valid[2],\n",
    "    y_valid_hat[1],\n",
    "    y_valid_hat[0],\n",
    "    cityC_Y_Train[83],\n",
    "    cityC_Y_Train[82],\n",
    "    cityC_Y_Train[81],\n",
    "    w_final_C,\n",
    "    b_final_C)\n",
    "\n",
    "y_valid_hat[3] = MakeSinglePrediction(\n",
    "    cityC_X_Valid[3],\n",
    "    y_valid_hat[2],\n",
    "    y_valid_hat[1],\n",
    "    y_valid_hat[0],\n",
    "    cityC_Y_Train[83],\n",
    "    cityC_Y_Train[82],\n",
    "    w_final_C,\n",
    "    b_final_C)\n",
    "\n",
    "y_valid_hat[4] = MakeSinglePrediction(\n",
    "    cityC_X_Valid[4],\n",
    "    y_valid_hat[3],\n",
    "    y_valid_hat[2],\n",
    "    y_valid_hat[1],\n",
    "    y_valid_hat[0],\n",
    "    cityC_Y_Train[83],\n",
    "    w_final_C,\n",
    "    b_final_C)\n",
    "\n",
    "for i in range(5, valid_num):\n",
    "    y_valid_hat[i] = MakeSinglePrediction(\n",
    "        cityC_X_Valid[i],\n",
    "        y_valid_hat[i-1],\n",
    "        y_valid_hat[i-2],\n",
    "        y_valid_hat[i-3],\n",
    "        y_valid_hat[i-4],\n",
    "        y_valid_hat[i-5],\n",
    "        w_final_C,\n",
    "        b_final_C\n",
    "    )\n",
    "\n",
    "print(y_valid_hat)\n",
    "\n",
    "# y_valid_hat = MakePrediction(cityC_X_Valid, w_final_C, b_final_C)\n",
    "print(\"VarrianceC:\", evaluate_MAPE(valid_num, y_valid_hat, cityC_Y_Valid), \"%\")\n",
    "# plt.plot(cityC_Y_Valid, 'bo', y_valid_hat, 'ro')"
   ]
  },
  {
   "cell_type": "markdown",
   "metadata": {},
   "source": [
    "### **Best Varriance**\n",
    "- City A : 7%\n",
    "- City B : 18%\n",
    "- City C : 9%\n",
    " \n",
    " "
   ]
  },
  {
   "cell_type": "markdown",
   "metadata": {},
   "source": [
    "### **Prediction**"
   ]
  },
  {
   "cell_type": "code",
   "execution_count": 24,
   "metadata": {},
   "outputs": [
    {
     "name": "stdout",
     "output_type": "stream",
     "text": [
      "[24. 24. 23. 23. 23. 22. 22. 22. 22. 22.]\n"
     ]
    }
   ],
   "source": [
    "# City A\n",
    "cityA_Predict = X_Predict[:,0]\n",
    "y_hat_A = np.zeros(cityA_Predict.shape[0])\n",
    "\n",
    "y_hat_A[0] = MakeSinglePrediction(\n",
    "    cityA_Predict[0],\n",
    "    cityA_Y_Valid[9],\n",
    "    cityA_Y_Valid[8],\n",
    "    cityA_Y_Valid[7],\n",
    "    cityA_Y_Valid[6],\n",
    "    cityA_Y_Valid[5],\n",
    "    w_final_A,\n",
    "    b_final_A)\n",
    "\n",
    "y_hat_A[1] = MakeSinglePrediction(\n",
    "    cityA_Predict[1],\n",
    "    y_hat_A[0],\n",
    "    cityA_Y_Valid[9],\n",
    "    cityA_Y_Valid[8],\n",
    "    cityA_Y_Valid[7],\n",
    "    cityA_Y_Valid[6],\n",
    "    w_final_A,\n",
    "    b_final_A)\n",
    "\n",
    "y_hat_A[2] = MakeSinglePrediction(\n",
    "    cityA_Predict[2],\n",
    "    y_hat_A[1],\n",
    "    y_hat_A[0],\n",
    "    cityA_Y_Valid[9],\n",
    "    cityA_Y_Valid[8],\n",
    "    cityA_Y_Valid[7],\n",
    "    w_final_A,\n",
    "    b_final_A)\n",
    "\n",
    "y_hat_A[3] = MakeSinglePrediction(\n",
    "    cityA_Predict[3],\n",
    "    y_hat_A[2],\n",
    "    y_hat_A[1],\n",
    "    y_hat_A[0],\n",
    "    cityA_Y_Valid[9],\n",
    "    cityA_Y_Valid[8],\n",
    "    w_final_A,\n",
    "    b_final_A)\n",
    "\n",
    "y_hat_A[4] = MakeSinglePrediction(\n",
    "    cityA_Predict[4],\n",
    "    y_hat_A[3],\n",
    "    y_hat_A[2],\n",
    "    y_hat_A[1],\n",
    "    y_hat_A[0],\n",
    "    cityA_Y_Valid[9],\n",
    "    w_final_A,\n",
    "    b_final_A)\n",
    "\n",
    "for i in range(5, 10):\n",
    "    y_hat_A[i] = MakeSinglePrediction(\n",
    "        cityA_Predict[i],\n",
    "        y_hat_A[i-1],\n",
    "        y_hat_A[i-2],\n",
    "        y_hat_A[i-3],\n",
    "        y_hat_A[i-4],\n",
    "        y_hat_A[i-5],\n",
    "        w_final_A,\n",
    "        b_final_A\n",
    "    )\n",
    "\n",
    "print(y_hat_A)"
   ]
  },
  {
   "cell_type": "code",
   "execution_count": 25,
   "metadata": {},
   "outputs": [
    {
     "name": "stdout",
     "output_type": "stream",
     "text": [
      "[23. 23. 23. 23. 23. 23. 23. 22. 22. 22.]\n"
     ]
    }
   ],
   "source": [
    "# City B\n",
    "cityB_Predict = X_Predict[:,1]\n",
    "y_hat_B = np.zeros(cityB_Predict.shape[0])\n",
    "\n",
    "y_hat_B[0] = MakeSinglePrediction(\n",
    "    cityB_Predict[0],\n",
    "    cityB_Y_Valid[9],\n",
    "    cityB_Y_Valid[8],\n",
    "    cityB_Y_Valid[7],\n",
    "    cityB_Y_Valid[6],\n",
    "    cityB_Y_Valid[5],\n",
    "    w_final_B,\n",
    "    b_final_B)\n",
    "\n",
    "y_hat_B[1] = MakeSinglePrediction(\n",
    "    cityB_Predict[1],\n",
    "    y_hat_B[0],\n",
    "    cityB_Y_Valid[9],\n",
    "    cityB_Y_Valid[8],\n",
    "    cityB_Y_Valid[7],\n",
    "    cityB_Y_Valid[6],\n",
    "    w_final_B,\n",
    "    b_final_B)\n",
    "\n",
    "y_hat_B[2] = MakeSinglePrediction(\n",
    "    cityB_Predict[2],\n",
    "    y_hat_B[1],\n",
    "    y_hat_B[0],\n",
    "    cityB_Y_Valid[9],\n",
    "    cityB_Y_Valid[8],\n",
    "    cityB_Y_Valid[7],\n",
    "    w_final_B,\n",
    "    b_final_B)\n",
    "\n",
    "y_hat_B[3] = MakeSinglePrediction(\n",
    "    cityB_Predict[3],\n",
    "    y_hat_B[2],\n",
    "    y_hat_B[1],\n",
    "    y_hat_B[0],\n",
    "    cityB_Y_Valid[9],\n",
    "    cityB_Y_Valid[8],\n",
    "    w_final_B,\n",
    "    b_final_B)\n",
    "\n",
    "y_hat_B[4] = MakeSinglePrediction(\n",
    "    cityB_Predict[4],\n",
    "    y_hat_B[3],\n",
    "    y_hat_B[2],\n",
    "    y_hat_B[1],\n",
    "    y_hat_B[0],\n",
    "    cityB_Y_Valid[9],\n",
    "    w_final_B,\n",
    "    b_final_B)\n",
    "\n",
    "for i in range(5, 10):\n",
    "    y_hat_B[i] = MakeSinglePrediction(\n",
    "        cityB_Predict[i],\n",
    "        y_hat_B[i-1],\n",
    "        y_hat_B[i-2],\n",
    "        y_hat_B[i-3],\n",
    "        y_hat_B[i-4],\n",
    "        y_hat_B[i-5],\n",
    "        w_final_B,\n",
    "        b_final_B\n",
    "    )\n",
    "\n",
    "print(y_hat_B)\n",
    "\n",
    "# y_hat_B = MakePrediction(cityB_Predict, w_final_B, b_final_B)\n",
    "# print(\"VarrianceB:\", evaluate_MAPE(valid_num, y_hat_B, cityB_Y_Valid), \"%\")\n",
    "# plt.plot(cityB_Y_Valid, 'bo', y_hat_B, 'ro')"
   ]
  },
  {
   "cell_type": "code",
   "execution_count": 26,
   "metadata": {},
   "outputs": [
    {
     "name": "stdout",
     "output_type": "stream",
     "text": [
      "[30. 29. 28. 28. 27. 25. 24. 23. 23. 22.]\n"
     ]
    }
   ],
   "source": [
    "# City C\n",
    "cityC_Predict = X_Predict[:,1]\n",
    "y_hat_C = np.zeros(cityC_Predict.shape[0])\n",
    "\n",
    "y_hat_C[0] = MakeSinglePrediction(\n",
    "    cityC_Predict[0],\n",
    "    cityC_Y_Valid[9],\n",
    "    cityC_Y_Valid[8],\n",
    "    cityC_Y_Valid[7],\n",
    "    cityC_Y_Valid[6],\n",
    "    cityC_Y_Valid[5],\n",
    "    w_final_C,\n",
    "    b_final_C)\n",
    "\n",
    "y_hat_C[1] = MakeSinglePrediction(\n",
    "    cityC_Predict[1],\n",
    "    y_hat_C[0],\n",
    "    cityC_Y_Valid[9],\n",
    "    cityC_Y_Valid[8],\n",
    "    cityC_Y_Valid[7],\n",
    "    cityC_Y_Valid[6],\n",
    "    w_final_C,\n",
    "    b_final_C)\n",
    "\n",
    "y_hat_C[2] = MakeSinglePrediction(\n",
    "    cityC_Predict[2],\n",
    "    y_hat_C[1],\n",
    "    y_hat_C[0],\n",
    "    cityC_Y_Valid[9],\n",
    "    cityC_Y_Valid[8],\n",
    "    cityC_Y_Valid[7],\n",
    "    w_final_C,\n",
    "    b_final_C)\n",
    "\n",
    "y_hat_C[3] = MakeSinglePrediction(\n",
    "    cityC_Predict[3],\n",
    "    y_hat_C[2],\n",
    "    y_hat_C[1],\n",
    "    y_hat_C[0],\n",
    "    cityC_Y_Valid[9],\n",
    "    cityC_Y_Valid[8],\n",
    "    w_final_C,\n",
    "    b_final_C)\n",
    "\n",
    "y_hat_C[4] = MakeSinglePrediction(\n",
    "    cityC_Predict[4],\n",
    "    y_hat_C[3],\n",
    "    y_hat_C[2],\n",
    "    y_hat_C[1],\n",
    "    y_hat_C[0],\n",
    "    cityC_Y_Valid[9],\n",
    "    w_final_C,\n",
    "    b_final_C)\n",
    "\n",
    "for i in range(5, 10):\n",
    "    y_hat_C[i] = MakeSinglePrediction(\n",
    "        cityC_Predict[i],\n",
    "        y_hat_C[i-1],\n",
    "        y_hat_C[i-2],\n",
    "        y_hat_C[i-3],\n",
    "        y_hat_C[i-4],\n",
    "        y_hat_C[i-5],\n",
    "        w_final_C,\n",
    "        b_final_C\n",
    "    )\n",
    "\n",
    "print(y_hat_C)\n",
    "\n",
    "# y_hat_C = MakePrediction(cityC_Predict, w_final_C, b_final_C)\n",
    "# print(\"VarrianceC:\", evaluate_MAPE(valid_num, y_hat_C, cityC_Y_Valid), \"%\")\n",
    "# plt.plot(cityC_Y_Valid, 'bo', y_hat_C, 'ro')"
   ]
  },
  {
   "cell_type": "markdown",
   "metadata": {
    "id": "J8Jhd8wAOk3D"
   },
   "source": [
    "## Write the Output File\n",
    "Write the prediction to output csv\n",
    "> Format: 'epiweek', 'CityA', 'CityB', 'CityC'"
   ]
  },
  {
   "cell_type": "code",
   "execution_count": 27,
   "metadata": {
    "id": "tYQVYLlKOtDB"
   },
   "outputs": [],
   "source": [
    "# Output format\n",
    "week = 202143\n",
    "for i in range(0, 10):\n",
    "    output_datalist[i][0] = week + i\n",
    "    output_datalist[i][1] = y_hat_A[i]\n",
    "    output_datalist[i][2] = y_hat_B[i]\n",
    "    output_datalist[i][3] = y_hat_C[i]\n",
    "\n",
    "with open(output_dataroot, 'w', newline='', encoding=\"utf-8\") as csvfile:\n",
    "    writer = csv.writer(csvfile)\n",
    "    for row in output_datalist:\n",
    "        writer.writerow(row)\n"
   ]
  },
  {
   "cell_type": "markdown",
   "metadata": {
    "id": "rx4408qg4xMQ"
   },
   "source": [
    "# 2. Advanced Part (25%)\n",
    "In the second part, you need to implement the regression in a different way than the basic part to help your predictions for the number of dengue cases\n",
    "\n",
    "We provide you with two files **hw1_advanced_input1.csv** and **hw1_advanced_input2.csv** that can help you in this part\n",
    "\n",
    "Please save the prediction result in a csv file **hw1_advanced.csv** \n"
   ]
  },
  {
   "cell_type": "markdown",
   "metadata": {},
   "source": [
    "### **Open File**"
   ]
  },
  {
   "cell_type": "code",
   "execution_count": 28,
   "metadata": {
    "id": "DaZCe19m41g1"
   },
   "outputs": [],
   "source": [
    "input_1_dataroot = 'hw1_advanced_input1.csv'\n",
    "input_2_dataroot = 'hw1_advanced_input2.csv'\n",
    "output_dataroot = 'hw1_advanced.csv'\n",
    "\n",
    "input_1_datalist = []\n",
    "input_2_datalist = []\n",
    "output_datalist = np.zeros((10,4)).astype(int)\n",
    "\n",
    "# Read input csv to datalist\n",
    "with open(input_1_dataroot, newline='') as csvfile:\n",
    "    input_1_datalist = np.array(np.array(list(csv.reader(csvfile)))[1:, 1:]).astype(float)\n",
    "\n",
    "with open(input_2_dataroot, newline='') as csvfile:\n",
    "    input_2_datalist = np.array(np.array(list(csv.reader(csvfile)))[1:, 1:]).astype(float)"
   ]
  },
  {
   "cell_type": "markdown",
   "metadata": {},
   "source": [
    "### **Preprocess Data Set**"
   ]
  },
  {
   "cell_type": "code",
   "execution_count": 29,
   "metadata": {},
   "outputs": [],
   "source": [
    "cityA_x2_Train = np.array(input_1_datalist[0:train_num,0]).reshape(-1,1)\n",
    "cityB_x2_Train = np.array(input_1_datalist[0:train_num,1]).reshape(-1,1)\n",
    "cityC_x2_Train = np.array(input_1_datalist[0:train_num,2]).reshape(-1,1)\n",
    "\n",
    "cityA_x2_Valid = np.array(input_1_datalist[train_num:train_num+valid_num, 0]).reshape(-1,1)\n",
    "cityB_x2_Valid = np.array(input_1_datalist[train_num:train_num+valid_num, 1]).reshape(-1,1)\n",
    "cityC_x2_Valid = np.array(input_1_datalist[train_num:train_num+valid_num, 2]).reshape(-1,1)\n",
    "\n",
    "cityA_x2_Predict = np.array(input_1_datalist[train_num+valid_num:, 0]).reshape(-1,1)\n",
    "cityB_x2_Predict = np.array(input_1_datalist[train_num+valid_num:, 1]).reshape(-1,1)\n",
    "cityC_x2_Predict = np.array(input_1_datalist[train_num+valid_num:, 2]).reshape(-1,1)\n",
    "\n",
    "cityA_feature = np.array(input_2_datalist[0,:])\n",
    "cityB_feature = np.array(input_2_datalist[1,:])\n",
    "cityC_feature = np.array(input_2_datalist[2,:])\n",
    "\n",
    "cityA_feature_Train = np.tile(cityA_feature, (train_num, 1))\n",
    "cityB_feature_Train = np.tile(cityB_feature, (train_num, 1))\n",
    "cityC_feature_Train = np.tile(cityC_feature, (train_num, 1))\n",
    "\n",
    "cityA_feature_Valid = np.tile(cityA_feature, (valid_num, 1))\n",
    "cityB_feature_Valid = np.tile(cityB_feature, (valid_num, 1))\n",
    "cityC_feature_Valid = np.tile(cityC_feature, (valid_num, 1))\n",
    "\n",
    "cityA_X2_Train = np.concatenate(\n",
    "    [np.concatenate([cityA_X_Train, cityA_x2_Train], axis = 1), cityA_feature_Train], axis=1)\n",
    "cityB_X2_Train = np.concatenate(\n",
    "    [np.concatenate([cityB_X_Train, cityB_x2_Train], axis = 1), cityB_feature_Train], axis=1)\n",
    "cityC_X2_Train = np.concatenate(\n",
    "    [np.concatenate([cityC_X_Train, cityC_x2_Train], axis = 1), cityC_feature_Train], axis=1)\n",
    "\n",
    "# cityA_X2_Train = np.concatenate([cityA_X_Train, cityA_x2_Train], axis = 1)\n",
    "# cityB_X2_Train = np.concatenate([cityB_X_Train, cityB_x2_Train], axis = 1)\n",
    "# cityC_X2_Train = np.concatenate([cityC_X_Train, cityC_x2_Train], axis = 1)\n",
    "\n",
    "cityA_X2_All = np.concatenate([cityA_X_All, np.append(cityA_x2_Train, cityA_x2_Valid).reshape(-1,1)], axis = 1)\n",
    "cityB_X2_All = np.concatenate([cityB_X_All, np.append(cityB_x2_Train, cityB_x2_Valid).reshape(-1,1)], axis = 1)\n",
    "cityC_X2_All = np.concatenate([cityC_X_All, np.append(cityC_x2_Train, cityC_x2_Valid).reshape(-1,1)], axis = 1)\n",
    "\n",
    "cityA_X2_Valid = np.concatenate([np.concatenate([cityA_X_Valid, cityA_x2_Valid], axis = 1), cityA_feature_Valid], axis=1)\n",
    "cityB_X2_Valid = np.concatenate([np.concatenate([cityB_X_Valid, cityB_x2_Valid], axis = 1), cityB_feature_Valid], axis=1)\n",
    "cityC_X2_Valid = np.concatenate([np.concatenate([cityC_X_Valid, cityC_x2_Valid], axis = 1), cityC_feature_Valid], axis=1)"
   ]
  },
  {
   "cell_type": "markdown",
   "metadata": {},
   "source": [
    "### **Model Training**"
   ]
  },
  {
   "cell_type": "code",
   "execution_count": 30,
   "metadata": {},
   "outputs": [],
   "source": [
    "# w_init = np.zeros(cityA_X2_Train.shape[1])\n",
    "w_init = np.zeros(cityA_X2_All.shape[1])\n",
    "b_init = 0\n",
    "# alpha_A = 9.0e-5\n",
    "# alpha_B = 2.0e-4\n",
    "# alpha_C = 3.0e-4\n",
    "# Lambda = 9.5e4\n",
    "\n",
    "alpha_A = 7.5e-5\n",
    "alpha_B = 2.8e-4\n",
    "alpha_C = 3.0e-4\n",
    "\n",
    "lambda_A = 3.0e5\n",
    "lambda_B = 3.0e4\n",
    "lambda_C = 8.0e4\n",
    "\n",
    "iterations = 5000"
   ]
  },
  {
   "cell_type": "code",
   "execution_count": 31,
   "metadata": {},
   "outputs": [
    {
     "name": "stdout",
     "output_type": "stream",
     "text": [
      "Training CityA\n",
      "Iteration    0: Cost  1434.39\n",
      "Iteration  500: Cost   599.00\n",
      "Iteration 1000: Cost   594.71\n",
      "Iteration 1500: Cost   590.53\n",
      "Iteration 2000: Cost   586.45\n",
      "Iteration 2500: Cost   582.46\n",
      "Iteration 3000: Cost   578.57\n",
      "Iteration 3500: Cost   574.77\n",
      "Iteration 4000: Cost   571.05\n",
      "Iteration 4500: Cost   567.43\n"
     ]
    }
   ],
   "source": [
    "print(\"Training CityA\")\n",
    "# w_final_A2, b_final_A2, J_hist_A2 = Regression(\n",
    "#     cityA_X2_Train, cityA_Y_Train, w_init, b_init, alpha_A, lambda_A, iterations, compute_cost, compute_gradient)\n",
    "\n",
    "w_final_A2, b_final_A2, J_hist_A2 = Regression(\n",
    "    cityA_X2_All, cityA_Y_All, w_init, b_init, alpha_A, lambda_A, iterations, compute_cost, compute_gradient)"
   ]
  },
  {
   "cell_type": "code",
   "execution_count": 32,
   "metadata": {},
   "outputs": [
    {
     "name": "stdout",
     "output_type": "stream",
     "text": [
      "Training CityB\n",
      "Iteration    0: Cost   514.64\n",
      "Iteration  500: Cost   117.98\n",
      "Iteration 1000: Cost   116.94\n",
      "Iteration 1500: Cost   115.94\n",
      "Iteration 2000: Cost   114.97\n",
      "Iteration 2500: Cost   114.05\n",
      "Iteration 3000: Cost   113.16\n",
      "Iteration 3500: Cost   112.31\n",
      "Iteration 4000: Cost   111.48\n",
      "Iteration 4500: Cost   110.70\n"
     ]
    }
   ],
   "source": [
    "print(\"Training CityB\")\n",
    "# w_final_B2, b_final_B2, J_hist_B2 = Regression(\n",
    "#     cityB_X2_Train, cityB_Y_Train, w_init, b_init, alpha_B, lambda_B, iterations, compute_cost, compute_gradient)\n",
    "\n",
    "w_final_B2, b_final_B2, J_hist_B2 = Regression(\n",
    "    cityB_X2_All, cityB_Y_All, w_init, b_init, alpha_B, lambda_B, iterations, compute_cost, compute_gradient)\n"
   ]
  },
  {
   "cell_type": "code",
   "execution_count": 33,
   "metadata": {},
   "outputs": [
    {
     "name": "stdout",
     "output_type": "stream",
     "text": [
      "Training CityC\n",
      "Iteration    0: Cost   469.48\n",
      "Iteration  500: Cost   118.89\n",
      "Iteration 1000: Cost   117.51\n",
      "Iteration 1500: Cost   116.28\n",
      "Iteration 2000: Cost   115.17\n",
      "Iteration 2500: Cost   114.18\n",
      "Iteration 3000: Cost   113.28\n",
      "Iteration 3500: Cost   112.47\n",
      "Iteration 4000: Cost   111.75\n",
      "Iteration 4500: Cost   111.09\n"
     ]
    }
   ],
   "source": [
    "print(\"Training CityC\")\n",
    "# w_final_C2, b_final_C2, J_hist_C2 = Regression(\n",
    "#     cityC_X2_Train, cityC_Y_Train, w_init, b_init, alpha_C, lambda_C, iterations, compute_cost, compute_gradient)\n",
    "\n",
    "w_final_C2, b_final_C2, J_hist_C2 = Regression(\n",
    "    cityC_X2_All, cityC_Y_All, w_init, b_init, alpha_C, lambda_C, iterations, compute_cost, compute_gradient)"
   ]
  },
  {
   "cell_type": "markdown",
   "metadata": {},
   "source": [
    "### **Training Result**"
   ]
  },
  {
   "cell_type": "code",
   "execution_count": 34,
   "metadata": {},
   "outputs": [
    {
     "name": "stdout",
     "output_type": "stream",
     "text": [
      "BiasA: 21.27787878280024 %\n",
      "BiasB: 18.760760879647993 %\n",
      "BiasC: 41.49614659585961 %\n"
     ]
    }
   ],
   "source": [
    "# Model Training Result\n",
    "\n",
    "y_train_hat = MakePrediction(cityA_X2_All, w_final_A2, b_final_A2)\n",
    "print(\"BiasA:\", evaluate_MAPE(train_num, y_train_hat, cityA_Y_Train),\"%\")\n",
    "# plt.plot(cityA_Y_Train, 'bo', y_train_hat, 'ro')\n",
    "\n",
    "y_train_hat = MakePrediction(cityB_X2_All, w_final_B2, b_final_B2)\n",
    "print(\"BiasB:\", evaluate_MAPE(train_num, y_train_hat, cityB_Y_Train),\"%\")\n",
    "# plt.plot(cityB_Y_Train, 'bo', y_train_hat, 'ro')\n",
    "\n",
    "y_train_hat = MakePrediction(cityC_X2_All, w_final_C2, b_final_C2)\n",
    "print(\"BiasC:\", evaluate_MAPE(train_num, y_train_hat, cityC_Y_Train),\"%\")\n",
    "# plt.plot(cityC_Y_Train, 'bo', y_train_hat, 'ro')"
   ]
  },
  {
   "cell_type": "markdown",
   "metadata": {},
   "source": [
    "### **Make Prediction**"
   ]
  },
  {
   "cell_type": "code",
   "execution_count": 35,
   "metadata": {},
   "outputs": [],
   "source": [
    "def MakeAdvancePrediction(x_temp, x1, x2, x3, x4, x5, x_pre, w, b):\n",
    "    y_hat = int(x_temp*w[0] + x1*w[1] + x2*w[2] + x3*w[3] + x4*w[4] + x5*w[5]+ x_pre*w[6] + b)\n",
    "    \n",
    "    return y_hat"
   ]
  },
  {
   "cell_type": "markdown",
   "metadata": {},
   "source": [
    "### **Validation Result**"
   ]
  },
  {
   "cell_type": "code",
   "execution_count": 36,
   "metadata": {},
   "outputs": [
    {
     "name": "stdout",
     "output_type": "stream",
     "text": [
      "[32. 31. 30. 29. 28. 27. 26. 25. 25. 24.]\n",
      "VarrianceA: 7.948532964816758 %\n"
     ]
    }
   ],
   "source": [
    "# City A\n",
    "\n",
    "y_valid_hat = np.zeros(cityA_X_Valid.shape[0])\n",
    "y_valid_hat[0] = MakeAdvancePrediction(\n",
    "    cityA_X_Valid[0],\n",
    "    cityA_Y_Train[83],\n",
    "    cityA_Y_Train[82],\n",
    "    cityA_Y_Train[81],\n",
    "    cityA_Y_Train[80],\n",
    "    cityA_Y_Train[79],\n",
    "    cityA_x2_Valid[0],\n",
    "    w_final_A2,\n",
    "    b_final_A2)\n",
    "\n",
    "y_valid_hat[1] = MakeAdvancePrediction(\n",
    "    cityA_X_Valid[1],\n",
    "    y_valid_hat[0],\n",
    "    cityA_Y_Train[83],\n",
    "    cityA_Y_Train[82],\n",
    "    cityA_Y_Train[81],\n",
    "    cityA_Y_Train[80],\n",
    "    cityA_x2_Valid[1],\n",
    "    w_final_A2,\n",
    "    b_final_A2)\n",
    "\n",
    "y_valid_hat[2] = MakeAdvancePrediction(\n",
    "    cityA_X_Valid[2],\n",
    "    y_valid_hat[1],\n",
    "    y_valid_hat[0],\n",
    "    cityA_Y_Train[83],\n",
    "    cityA_Y_Train[82],\n",
    "    cityA_Y_Train[81],\n",
    "    cityA_x2_Valid[2],\n",
    "    w_final_A2,\n",
    "    b_final_A2)\n",
    "\n",
    "y_valid_hat[3] = MakeAdvancePrediction(\n",
    "    cityA_X_Valid[3],\n",
    "    y_valid_hat[2],\n",
    "    y_valid_hat[1],\n",
    "    y_valid_hat[0],\n",
    "    cityA_Y_Train[83],\n",
    "    cityA_Y_Train[82],\n",
    "    cityA_x2_Valid[3],\n",
    "    w_final_A2,\n",
    "    b_final_A2)\n",
    "\n",
    "y_valid_hat[4] = MakeAdvancePrediction(\n",
    "    cityA_X_Valid[4],\n",
    "    y_valid_hat[3],\n",
    "    y_valid_hat[2],\n",
    "    y_valid_hat[1],\n",
    "    y_valid_hat[0],\n",
    "    cityA_Y_Train[83],\n",
    "    cityA_x2_Valid[4],\n",
    "    w_final_A2,\n",
    "    b_final_A2)\n",
    "\n",
    "for i in range(5, valid_num):\n",
    "    y_valid_hat[i] = MakeAdvancePrediction(\n",
    "        cityA_X_Valid[i],\n",
    "        y_valid_hat[i-1],\n",
    "        y_valid_hat[i-2],\n",
    "        y_valid_hat[i-3],\n",
    "        y_valid_hat[i-4],\n",
    "        y_valid_hat[i-5],\n",
    "        cityA_x2_Valid[i],\n",
    "        w_final_A2,\n",
    "        b_final_A2\n",
    "    )\n",
    "\n",
    "print(y_valid_hat)\n",
    "\n",
    "# y_valid_hat = MakePrediction(cityA_X_Valid, w_final_A, b_final_A)\n",
    "print(\"VarrianceA:\", evaluate_MAPE(valid_num, y_valid_hat, cityA_Y_Valid), \"%\")\n",
    "# plt.plot(cityA_Y_Valid, 'bo', y_valid_hat, 'ro')"
   ]
  },
  {
   "cell_type": "code",
   "execution_count": 37,
   "metadata": {},
   "outputs": [
    {
     "name": "stdout",
     "output_type": "stream",
     "text": [
      "[22. 22. 22. 23. 23. 23. 23. 23. 23. 23.]\n",
      "VarrianceB: 18.047979797979796 %\n"
     ]
    }
   ],
   "source": [
    "# City B\n",
    "\n",
    "y_valid_hat = np.zeros(cityB_X_Valid.shape[0])\n",
    "y_valid_hat[0] = MakeAdvancePrediction(\n",
    "    cityB_X_Valid[0],\n",
    "    cityB_Y_Train[83],\n",
    "    cityB_Y_Train[82],\n",
    "    cityB_Y_Train[81],\n",
    "    cityB_Y_Train[80],\n",
    "    cityB_Y_Train[79],\n",
    "    cityB_x2_Train[0],\n",
    "    w_final_B2,\n",
    "    b_final_B2)\n",
    "\n",
    "y_valid_hat[1] = MakeAdvancePrediction(\n",
    "    cityB_X_Valid[1],\n",
    "    y_valid_hat[0],\n",
    "    cityB_Y_Train[83],\n",
    "    cityB_Y_Train[82],\n",
    "    cityB_Y_Train[81],\n",
    "    cityB_Y_Train[80],\n",
    "    cityB_x2_Train[1],\n",
    "    w_final_B2,\n",
    "    b_final_B2)\n",
    "\n",
    "y_valid_hat[2] = MakeAdvancePrediction(\n",
    "    cityB_X_Valid[2],\n",
    "    y_valid_hat[1],\n",
    "    y_valid_hat[0],\n",
    "    cityB_Y_Train[83],\n",
    "    cityB_Y_Train[82],\n",
    "    cityB_Y_Train[81],\n",
    "    cityB_x2_Train[2],\n",
    "    w_final_B2,\n",
    "    b_final_B2)\n",
    "\n",
    "y_valid_hat[3] = MakeAdvancePrediction(\n",
    "    cityB_X_Valid[3],\n",
    "    y_valid_hat[2],\n",
    "    y_valid_hat[1],\n",
    "    y_valid_hat[0],\n",
    "    cityB_Y_Train[83],\n",
    "    cityB_Y_Train[82],\n",
    "    cityB_x2_Train[3],\n",
    "    w_final_B2,\n",
    "    b_final_B2)\n",
    "\n",
    "y_valid_hat[4] = MakeAdvancePrediction(\n",
    "    cityB_X_Valid[4],\n",
    "    y_valid_hat[3],\n",
    "    y_valid_hat[2],\n",
    "    y_valid_hat[1],\n",
    "    y_valid_hat[0],\n",
    "    cityB_Y_Train[83],\n",
    "    cityB_x2_Train[4],\n",
    "    w_final_B2,\n",
    "    b_final_B2)\n",
    "\n",
    "for i in range(5, valid_num):\n",
    "    y_valid_hat[i] = MakeAdvancePrediction(\n",
    "        cityB_X_Valid[i],\n",
    "        y_valid_hat[i-1],\n",
    "        y_valid_hat[i-2],\n",
    "        y_valid_hat[i-3],\n",
    "        y_valid_hat[i-4],\n",
    "        y_valid_hat[i-5],\n",
    "        cityB_x2_Train[i],\n",
    "        w_final_B2,\n",
    "        b_final_B2\n",
    "    )\n",
    "\n",
    "print(y_valid_hat)\n",
    "\n",
    "# y_valid_hat = MakePrediction(cityB_X_Valid, w_final_B2, b_final_B2)\n",
    "print(\"VarrianceB:\", evaluate_MAPE(valid_num, y_valid_hat, cityB_Y_Valid), \"%\")\n",
    "# plt.plot(cityB_Y_Valid, 'bo', y_valid_hat, 'ro')"
   ]
  },
  {
   "cell_type": "code",
   "execution_count": 38,
   "metadata": {},
   "outputs": [
    {
     "name": "stdout",
     "output_type": "stream",
     "text": [
      "[46. 44. 42. 40. 38. 35. 33. 32. 30. 29.]\n",
      "VarrianceC: 9.620105884149947 %\n"
     ]
    }
   ],
   "source": [
    "# City C\n",
    "\n",
    "y_valid_hat = np.zeros(cityC_X_Valid.shape[0])\n",
    "y_valid_hat[0] = MakeAdvancePrediction(\n",
    "    cityC_X_Valid[0],\n",
    "    cityC_Y_Train[83],\n",
    "    cityC_Y_Train[82],\n",
    "    cityC_Y_Train[81],\n",
    "    cityC_Y_Train[80],\n",
    "    cityC_Y_Train[79],\n",
    "    cityC_x2_Train[0],\n",
    "    w_final_C2,\n",
    "    b_final_C2)\n",
    "\n",
    "y_valid_hat[1] = MakeAdvancePrediction(\n",
    "    cityC_X_Valid[1],\n",
    "    y_valid_hat[0],\n",
    "    cityC_Y_Train[83],\n",
    "    cityC_Y_Train[82],\n",
    "    cityC_Y_Train[81],\n",
    "    cityC_Y_Train[80],\n",
    "    cityC_x2_Train[1],\n",
    "    w_final_C2,\n",
    "    b_final_C2)\n",
    "\n",
    "y_valid_hat[2] = MakeAdvancePrediction(\n",
    "    cityC_X_Valid[2],\n",
    "    y_valid_hat[1],\n",
    "    y_valid_hat[0],\n",
    "    cityC_Y_Train[83],\n",
    "    cityC_Y_Train[82],\n",
    "    cityC_Y_Train[81],\n",
    "    cityC_x2_Train[2],\n",
    "    w_final_C2,\n",
    "    b_final_C2)\n",
    "\n",
    "y_valid_hat[3] = MakeAdvancePrediction(\n",
    "    cityC_X_Valid[3],\n",
    "    y_valid_hat[2],\n",
    "    y_valid_hat[1],\n",
    "    y_valid_hat[0],\n",
    "    cityC_Y_Train[83],\n",
    "    cityC_Y_Train[82],\n",
    "    cityC_x2_Train[3],\n",
    "    w_final_C2,\n",
    "    b_final_C2)\n",
    "\n",
    "y_valid_hat[4] = MakeAdvancePrediction(\n",
    "    cityC_X_Valid[4],\n",
    "    y_valid_hat[3],\n",
    "    y_valid_hat[2],\n",
    "    y_valid_hat[1],\n",
    "    y_valid_hat[0],\n",
    "    cityC_Y_Train[83],\n",
    "    cityC_x2_Train[4],\n",
    "    w_final_C2,\n",
    "    b_final_C2)\n",
    "\n",
    "for i in range(5, valid_num):\n",
    "    y_valid_hat[i] = MakeAdvancePrediction(\n",
    "        cityC_X_Valid[i],\n",
    "        y_valid_hat[i-1],\n",
    "        y_valid_hat[i-2],\n",
    "        y_valid_hat[i-3],\n",
    "        y_valid_hat[i-4],\n",
    "        y_valid_hat[i-5],\n",
    "        cityC_x2_Train[i],\n",
    "        w_final_C2,\n",
    "        b_final_C2\n",
    "    )\n",
    "\n",
    "print(y_valid_hat)\n",
    "\n",
    "# y_valid_hat = MakePrediction(cityC_X_Valid, w_final_C2, b_final_C2)\n",
    "print(\"VarrianceC:\", evaluate_MAPE(valid_num, y_valid_hat, cityC_Y_Valid), \"%\")\n",
    "# plt.plot(cityC_Y_Valid, 'bo', y_valid_hat, 'ro')"
   ]
  },
  {
   "cell_type": "markdown",
   "metadata": {},
   "source": [
    "### **Prediction**"
   ]
  },
  {
   "cell_type": "code",
   "execution_count": 39,
   "metadata": {},
   "outputs": [
    {
     "name": "stdout",
     "output_type": "stream",
     "text": [
      "[24. 23. 23. 23. 22. 22. 21. 21. 21. 21.]\n"
     ]
    }
   ],
   "source": [
    "# City A\n",
    "cityA_Predict = X_Predict[:,0]\n",
    "y_hat_A = np.zeros(cityA_Predict.shape[0])\n",
    "\n",
    "y_hat_A[0] = MakeAdvancePrediction(\n",
    "    cityA_Predict[0],\n",
    "    cityA_Y_Valid[9],\n",
    "    cityA_Y_Valid[8],\n",
    "    cityA_Y_Valid[7],\n",
    "    cityA_Y_Valid[6],\n",
    "    cityA_Y_Valid[5],\n",
    "    cityA_x2_Predict[0],\n",
    "    w_final_A2,\n",
    "    b_final_A2)\n",
    "\n",
    "y_hat_A[1] = MakeAdvancePrediction(\n",
    "    cityA_Predict[1],\n",
    "    y_hat_A[0],\n",
    "    cityA_Y_Valid[9],\n",
    "    cityA_Y_Valid[8],\n",
    "    cityA_Y_Valid[7],\n",
    "    cityA_Y_Valid[6],\n",
    "    cityA_x2_Predict[1],\n",
    "    w_final_A2,\n",
    "    b_final_A2)\n",
    "\n",
    "y_hat_A[2] = MakeAdvancePrediction(\n",
    "    cityA_Predict[2],\n",
    "    y_hat_A[1],\n",
    "    y_hat_A[0],\n",
    "    cityA_Y_Valid[9],\n",
    "    cityA_Y_Valid[8],\n",
    "    cityA_Y_Valid[7],\n",
    "    cityA_x2_Predict[2],\n",
    "    w_final_A2,\n",
    "    b_final_A2)\n",
    "\n",
    "y_hat_A[3] = MakeAdvancePrediction(\n",
    "    cityA_Predict[3],\n",
    "    y_hat_A[2],\n",
    "    y_hat_A[1],\n",
    "    y_hat_A[0],\n",
    "    cityA_Y_Valid[9],\n",
    "    cityA_Y_Valid[8],\n",
    "    cityA_x2_Predict[3],\n",
    "    w_final_A2,\n",
    "    b_final_A2)\n",
    "\n",
    "y_hat_A[4] = MakeAdvancePrediction(\n",
    "    cityA_Predict[4],\n",
    "    y_hat_A[3],\n",
    "    y_hat_A[2],\n",
    "    y_hat_A[1],\n",
    "    y_hat_A[0],\n",
    "    cityA_Y_Valid[9],\n",
    "    cityA_x2_Predict[4],\n",
    "    w_final_A2,\n",
    "    b_final_A2)\n",
    "\n",
    "for i in range(5, 10):\n",
    "    y_hat_A[i] = MakeAdvancePrediction(\n",
    "        cityA_Predict[i],\n",
    "        y_hat_A[i-1],\n",
    "        y_hat_A[i-2],\n",
    "        y_hat_A[i-3],\n",
    "        y_hat_A[i-4],\n",
    "        y_hat_A[i-5],\n",
    "        cityA_x2_Predict[i],\n",
    "        w_final_A2,\n",
    "        b_final_A2\n",
    "    )\n",
    "\n",
    "print(y_hat_A)"
   ]
  },
  {
   "cell_type": "code",
   "execution_count": 40,
   "metadata": {},
   "outputs": [
    {
     "name": "stdout",
     "output_type": "stream",
     "text": [
      "[23. 24. 24. 24. 24. 24. 24. 23. 23. 23.]\n"
     ]
    }
   ],
   "source": [
    "# City B\n",
    "cityB_Predict = X_Predict[:,1]\n",
    "y_hat_B = np.zeros(cityB_Predict.shape[0])\n",
    "\n",
    "y_hat_B[0] = MakeAdvancePrediction(\n",
    "    cityB_Predict[0],\n",
    "    cityB_Y_Valid[9],\n",
    "    cityB_Y_Valid[8],\n",
    "    cityB_Y_Valid[7],\n",
    "    cityB_Y_Valid[6],\n",
    "    cityB_Y_Valid[5],\n",
    "    cityB_x2_Predict[0],\n",
    "    w_final_B2,\n",
    "    b_final_B2)\n",
    "\n",
    "y_hat_B[1] = MakeAdvancePrediction(\n",
    "    cityB_Predict[1],\n",
    "    y_hat_B[0],\n",
    "    cityB_Y_Valid[9],\n",
    "    cityB_Y_Valid[8],\n",
    "    cityB_Y_Valid[7],\n",
    "    cityB_Y_Valid[6],\n",
    "    cityB_x2_Predict[1],\n",
    "    w_final_B2,\n",
    "    b_final_B2)\n",
    "\n",
    "y_hat_B[2] = MakeAdvancePrediction(\n",
    "    cityB_Predict[2],\n",
    "    y_hat_B[1],\n",
    "    y_hat_B[0],\n",
    "    cityB_Y_Valid[9],\n",
    "    cityB_Y_Valid[8],\n",
    "    cityB_Y_Valid[7],\n",
    "    cityB_x2_Predict[2],\n",
    "    w_final_B2,\n",
    "    b_final_B2)\n",
    "\n",
    "y_hat_B[3] = MakeAdvancePrediction(\n",
    "    cityB_Predict[3],\n",
    "    y_hat_B[2],\n",
    "    y_hat_B[1],\n",
    "    y_hat_B[0],\n",
    "    cityB_Y_Valid[9],\n",
    "    cityB_Y_Valid[8],\n",
    "    cityB_x2_Predict[3],\n",
    "    w_final_B2,\n",
    "    b_final_B2)\n",
    "\n",
    "y_hat_B[4] = MakeAdvancePrediction(\n",
    "    cityB_Predict[4],\n",
    "    y_hat_B[3],\n",
    "    y_hat_B[2],\n",
    "    y_hat_B[1],\n",
    "    y_hat_B[0],\n",
    "    cityB_Y_Valid[9],\n",
    "    cityB_x2_Predict[4],\n",
    "    w_final_B2,\n",
    "    b_final_B2)\n",
    "\n",
    "for i in range(5, 10):\n",
    "    y_hat_B[i] = MakeAdvancePrediction(\n",
    "        cityB_Predict[i],\n",
    "        y_hat_B[i-1],\n",
    "        y_hat_B[i-2],\n",
    "        y_hat_B[i-3],\n",
    "        y_hat_B[i-4],\n",
    "        y_hat_B[i-5],\n",
    "        cityB_x2_Predict[i],\n",
    "        w_final_B2,\n",
    "        b_final_B2\n",
    "    )\n",
    "\n",
    "print(y_hat_B)"
   ]
  },
  {
   "cell_type": "code",
   "execution_count": 41,
   "metadata": {},
   "outputs": [
    {
     "name": "stdout",
     "output_type": "stream",
     "text": [
      "[31. 30. 29. 28. 27. 25. 25. 24. 23. 23.]\n"
     ]
    }
   ],
   "source": [
    "# City C\n",
    "cityC_Predict = X_Predict[:,2]\n",
    "y_hat_C = np.zeros(cityC_Predict.shape[0])\n",
    "\n",
    "y_hat_C[0] = MakeAdvancePrediction(\n",
    "    cityC_Predict[0],\n",
    "    cityC_Y_Valid[9],\n",
    "    cityC_Y_Valid[8],\n",
    "    cityC_Y_Valid[7],\n",
    "    cityC_Y_Valid[6],\n",
    "    cityC_Y_Valid[5],\n",
    "    cityC_x2_Predict[0],\n",
    "    w_final_C2,\n",
    "    b_final_C2)\n",
    "\n",
    "y_hat_C[1] = MakeAdvancePrediction(\n",
    "    cityC_Predict[1],\n",
    "    y_hat_C[0],\n",
    "    cityC_Y_Valid[9],\n",
    "    cityC_Y_Valid[8],\n",
    "    cityC_Y_Valid[7],\n",
    "    cityC_Y_Valid[6],\n",
    "    cityC_x2_Predict[1],\n",
    "    w_final_C2,\n",
    "    b_final_C2)\n",
    "\n",
    "y_hat_C[2] = MakeAdvancePrediction(\n",
    "    cityC_Predict[2],\n",
    "    y_hat_C[1],\n",
    "    y_hat_C[0],\n",
    "    cityC_Y_Valid[9],\n",
    "    cityC_Y_Valid[8],\n",
    "    cityC_Y_Valid[7],\n",
    "    cityC_x2_Predict[2],\n",
    "    w_final_C2,\n",
    "    b_final_C2)\n",
    "\n",
    "y_hat_C[3] = MakeAdvancePrediction(\n",
    "    cityC_Predict[3],\n",
    "    y_hat_C[2],\n",
    "    y_hat_C[1],\n",
    "    y_hat_C[0],\n",
    "    cityC_Y_Valid[9],\n",
    "    cityC_Y_Valid[8],\n",
    "    cityC_x2_Predict[3],\n",
    "    w_final_C2,\n",
    "    b_final_C2)\n",
    "\n",
    "y_hat_C[4] = MakeAdvancePrediction(\n",
    "    cityC_Predict[4],\n",
    "    y_hat_C[3],\n",
    "    y_hat_C[2],\n",
    "    y_hat_C[1],\n",
    "    y_hat_C[0],\n",
    "    cityC_Y_Valid[9],\n",
    "    cityC_x2_Predict[4],\n",
    "    w_final_C2,\n",
    "    b_final_C2)\n",
    "\n",
    "for i in range(5, 10):\n",
    "    y_hat_C[i] = MakeAdvancePrediction(\n",
    "        cityC_Predict[i],\n",
    "        y_hat_C[i-1],\n",
    "        y_hat_C[i-2],\n",
    "        y_hat_C[i-3],\n",
    "        y_hat_C[i-4],\n",
    "        y_hat_C[i-5],\n",
    "        cityC_x2_Predict[i],\n",
    "        w_final_C2,\n",
    "        b_final_C2\n",
    "    )\n",
    "\n",
    "print(y_hat_C)"
   ]
  },
  {
   "cell_type": "markdown",
   "metadata": {},
   "source": [
    "### **Output Result**"
   ]
  },
  {
   "cell_type": "code",
   "execution_count": 42,
   "metadata": {},
   "outputs": [],
   "source": [
    "# Output format\n",
    "week = 202143\n",
    "for i in range(0, 10):\n",
    "    output_datalist[i][0] = week + i\n",
    "    output_datalist[i][1] = y_hat_A[i]\n",
    "    output_datalist[i][2] = y_hat_B[i]\n",
    "    output_datalist[i][3] = y_hat_C[i]\n",
    "\n",
    "with open(output_dataroot, 'w', newline='', encoding=\"utf-8\") as csvfile:\n",
    "    writer = csv.writer(csvfile)\n",
    "    for row in output_datalist:\n",
    "        writer.writerow(row)"
   ]
  },
  {
   "cell_type": "markdown",
   "metadata": {},
   "source": [
    "# **Print Coefficient**"
   ]
  },
  {
   "cell_type": "code",
   "execution_count": 43,
   "metadata": {},
   "outputs": [
    {
     "name": "stdout",
     "output_type": "stream",
     "text": [
      "Basic Model\n",
      "City A: [0.06992404 0.25826389 0.19440561 0.12419846 0.08295154 0.06698269] 4.336959501125001\n",
      "City B: [0.15355932 0.32570426 0.16873347 0.09486844 0.06726585 0.0774388 ] 2.896243140671651\n",
      "City C: [0.05159495 0.19798895 0.16093948 0.13484268 0.11506568 0.10414489] 4.317572656152255\n",
      "\n",
      "Advance Model\n",
      "City A: [0.07100227 0.2593663  0.19533303 0.12504718 0.08379589 0.06795366\n",
      " 0.01495762] 3.8482064813760815\n",
      "City B: [0.15280189 0.34026065 0.16586732 0.08673146 0.05797745 0.06938738\n",
      " 0.02590842] 3.57338120213689\n",
      "City C: [0.05202219 0.20655606 0.16481187 0.13654313 0.11472481 0.10294789\n",
      " 0.04317371] 3.8137757726124577\n"
     ]
    }
   ],
   "source": [
    "# Output basic coefficient\n",
    "print(\"Basic Model\")\n",
    "print(\"City A:\", w_final_A, b_final_A)\n",
    "print(\"City B:\", w_final_B, b_final_B)\n",
    "print(\"City C:\", w_final_C, b_final_C)\n",
    "\n",
    "print()\n",
    "\n",
    "# Output advance coefficient\n",
    "print(\"Advance Model\")\n",
    "print(\"City A:\", w_final_A2, b_final_A2)\n",
    "print(\"City B:\", w_final_B2, b_final_B2)\n",
    "print(\"City C:\", w_final_C2, b_final_C2)"
   ]
  },
  {
   "cell_type": "markdown",
   "metadata": {
    "id": "EtgCJU7FPeJL"
   },
   "source": [
    "# Report *(5%)*\n",
    "\n",
    "Report should be submitted as a pdf file **hw1_report.pdf**\n",
    "\n",
    "*   Briefly describe the difficulty you encountered \n",
    "*   Summarize your work and your reflections \n",
    "*   No more than one page\n",
    "\n",
    "\n",
    "\n",
    "\n"
   ]
  },
  {
   "cell_type": "markdown",
   "metadata": {
    "id": "hlEE53_MPf4W"
   },
   "source": [
    "# Save the Code File\n",
    "Please save your code and submit it as an ipynb file! (**hw1.ipynb**)"
   ]
  }
 ],
 "metadata": {
  "colab": {
   "collapsed_sections": [],
   "provenance": []
  },
  "kernelspec": {
   "display_name": "Python 3.9.13 64-bit (microsoft store)",
   "language": "python",
   "name": "python3"
  },
  "language_info": {
   "codemirror_mode": {
    "name": "ipython",
    "version": 3
   },
   "file_extension": ".py",
   "mimetype": "text/x-python",
   "name": "python",
   "nbconvert_exporter": "python",
   "pygments_lexer": "ipython3",
   "version": "3.9.13"
  },
  "vscode": {
   "interpreter": {
    "hash": "497338f01161d141240caa60efca5087225791fadc9b7c964beb65d863e046f0"
   }
  }
 },
 "nbformat": 4,
 "nbformat_minor": 1
}
